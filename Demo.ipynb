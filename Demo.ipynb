{
 "cells": [
  {
   "cell_type": "code",
   "execution_count": 3,
   "id": "6e178e80",
   "metadata": {},
   "outputs": [],
   "source": [
    "import pandas as pd\n",
    "from lhotse import (SupervisionSegment, MonoCut, Fbank, LilcomFilesWriter, \n",
    "RecordingSet, Recording, CutSet, MonoCut, FbankConfig)\n",
    "import sys\n",
    "from compute_features import create_manifest\n",
    "import os\n",
    "import pickle\n"
   ]
  },
  {
   "cell_type": "code",
   "execution_count": 4,
   "id": "55e1c713",
   "metadata": {},
   "outputs": [
    {
     "data": {
      "text/html": [
       "<div>\n",
       "<style scoped>\n",
       "    .dataframe tbody tr th:only-of-type {\n",
       "        vertical-align: middle;\n",
       "    }\n",
       "\n",
       "    .dataframe tbody tr th {\n",
       "        vertical-align: top;\n",
       "    }\n",
       "\n",
       "    .dataframe thead th {\n",
       "        text-align: right;\n",
       "    }\n",
       "</style>\n",
       "<table border=\"1\" class=\"dataframe\">\n",
       "  <thead>\n",
       "    <tr style=\"text-align: right;\">\n",
       "      <th></th>\n",
       "      <th>start</th>\n",
       "      <th>duration</th>\n",
       "      <th>sub_start</th>\n",
       "      <th>sub_duration</th>\n",
       "      <th>audio_path</th>\n",
       "      <th>meeting_id</th>\n",
       "      <th>chan_id</th>\n",
       "      <th>label</th>\n",
       "    </tr>\n",
       "  </thead>\n",
       "  <tbody>\n",
       "    <tr>\n",
       "      <th>0</th>\n",
       "      <td>1478.75</td>\n",
       "      <td>1.90</td>\n",
       "      <td>1478.92</td>\n",
       "      <td>1.00</td>\n",
       "      <td>Bmr021/chan3.sph</td>\n",
       "      <td>Bmr021</td>\n",
       "      <td>chan3</td>\n",
       "      <td>0</td>\n",
       "    </tr>\n",
       "    <tr>\n",
       "      <th>1</th>\n",
       "      <td>488.67</td>\n",
       "      <td>1.25</td>\n",
       "      <td>488.84</td>\n",
       "      <td>1.00</td>\n",
       "      <td>Bmr021/chan5.sph</td>\n",
       "      <td>Bmr021</td>\n",
       "      <td>chan5</td>\n",
       "      <td>0</td>\n",
       "    </tr>\n",
       "    <tr>\n",
       "      <th>2</th>\n",
       "      <td>1366.31</td>\n",
       "      <td>1.31</td>\n",
       "      <td>1366.43</td>\n",
       "      <td>1.00</td>\n",
       "      <td>Bmr021/chan3.sph</td>\n",
       "      <td>Bmr021</td>\n",
       "      <td>chan3</td>\n",
       "      <td>0</td>\n",
       "    </tr>\n",
       "    <tr>\n",
       "      <th>3</th>\n",
       "      <td>2203.13</td>\n",
       "      <td>1.92</td>\n",
       "      <td>2203.13</td>\n",
       "      <td>1.00</td>\n",
       "      <td>Bmr021/chan5.sph</td>\n",
       "      <td>Bmr021</td>\n",
       "      <td>chan5</td>\n",
       "      <td>0</td>\n",
       "    </tr>\n",
       "    <tr>\n",
       "      <th>4</th>\n",
       "      <td>2162.67</td>\n",
       "      <td>1.62</td>\n",
       "      <td>2163.19</td>\n",
       "      <td>1.00</td>\n",
       "      <td>Bmr021/chan2.sph</td>\n",
       "      <td>Bmr021</td>\n",
       "      <td>chan2</td>\n",
       "      <td>0</td>\n",
       "    </tr>\n",
       "    <tr>\n",
       "      <th>5</th>\n",
       "      <td>636.62</td>\n",
       "      <td>1.00</td>\n",
       "      <td>636.62</td>\n",
       "      <td>1.00</td>\n",
       "      <td>Bmr021/chan4.sph</td>\n",
       "      <td>Bmr021</td>\n",
       "      <td>chan4</td>\n",
       "      <td>0</td>\n",
       "    </tr>\n",
       "    <tr>\n",
       "      <th>6</th>\n",
       "      <td>1.17</td>\n",
       "      <td>1.00</td>\n",
       "      <td>1.17</td>\n",
       "      <td>1.00</td>\n",
       "      <td>Bmr021/chan3.sph</td>\n",
       "      <td>Bmr021</td>\n",
       "      <td>chan3</td>\n",
       "      <td>0</td>\n",
       "    </tr>\n",
       "    <tr>\n",
       "      <th>7</th>\n",
       "      <td>1933.38</td>\n",
       "      <td>1.68</td>\n",
       "      <td>1933.67</td>\n",
       "      <td>1.00</td>\n",
       "      <td>Bmr021/chan4.sph</td>\n",
       "      <td>Bmr021</td>\n",
       "      <td>chan4</td>\n",
       "      <td>0</td>\n",
       "    </tr>\n",
       "    <tr>\n",
       "      <th>8</th>\n",
       "      <td>22.83</td>\n",
       "      <td>4.37</td>\n",
       "      <td>25.11</td>\n",
       "      <td>1.00</td>\n",
       "      <td>Bmr021/chan0.sph</td>\n",
       "      <td>Bmr021</td>\n",
       "      <td>chan0</td>\n",
       "      <td>0</td>\n",
       "    </tr>\n",
       "    <tr>\n",
       "      <th>9</th>\n",
       "      <td>291.15</td>\n",
       "      <td>1.00</td>\n",
       "      <td>291.15</td>\n",
       "      <td>1.00</td>\n",
       "      <td>Bmr021/chan3.sph</td>\n",
       "      <td>Bmr021</td>\n",
       "      <td>chan3</td>\n",
       "      <td>0</td>\n",
       "    </tr>\n",
       "    <tr>\n",
       "      <th>10</th>\n",
       "      <td>290.69</td>\n",
       "      <td>1.90</td>\n",
       "      <td>291.39</td>\n",
       "      <td>1.00</td>\n",
       "      <td>Bmr021/chan0.sph</td>\n",
       "      <td>Bmr021</td>\n",
       "      <td>chan0</td>\n",
       "      <td>1</td>\n",
       "    </tr>\n",
       "    <tr>\n",
       "      <th>11</th>\n",
       "      <td>293.78</td>\n",
       "      <td>1.25</td>\n",
       "      <td>293.82</td>\n",
       "      <td>1.00</td>\n",
       "      <td>Bmr021/chan0.sph</td>\n",
       "      <td>Bmr021</td>\n",
       "      <td>chan0</td>\n",
       "      <td>1</td>\n",
       "    </tr>\n",
       "    <tr>\n",
       "      <th>12</th>\n",
       "      <td>389.46</td>\n",
       "      <td>1.31</td>\n",
       "      <td>389.46</td>\n",
       "      <td>1.00</td>\n",
       "      <td>Bmr021/chan0.sph</td>\n",
       "      <td>Bmr021</td>\n",
       "      <td>chan0</td>\n",
       "      <td>1</td>\n",
       "    </tr>\n",
       "    <tr>\n",
       "      <th>13</th>\n",
       "      <td>626.91</td>\n",
       "      <td>1.92</td>\n",
       "      <td>627.81</td>\n",
       "      <td>1.00</td>\n",
       "      <td>Bmr021/chan0.sph</td>\n",
       "      <td>Bmr021</td>\n",
       "      <td>chan0</td>\n",
       "      <td>1</td>\n",
       "    </tr>\n",
       "    <tr>\n",
       "      <th>14</th>\n",
       "      <td>1012.25</td>\n",
       "      <td>1.62</td>\n",
       "      <td>1012.29</td>\n",
       "      <td>1.00</td>\n",
       "      <td>Bmr021/chan0.sph</td>\n",
       "      <td>Bmr021</td>\n",
       "      <td>chan0</td>\n",
       "      <td>1</td>\n",
       "    </tr>\n",
       "    <tr>\n",
       "      <th>15</th>\n",
       "      <td>1038.67</td>\n",
       "      <td>0.95</td>\n",
       "      <td>1038.67</td>\n",
       "      <td>0.95</td>\n",
       "      <td>Bmr021/chan0.sph</td>\n",
       "      <td>Bmr021</td>\n",
       "      <td>chan0</td>\n",
       "      <td>1</td>\n",
       "    </tr>\n",
       "    <tr>\n",
       "      <th>16</th>\n",
       "      <td>1587.99</td>\n",
       "      <td>0.49</td>\n",
       "      <td>1587.99</td>\n",
       "      <td>0.49</td>\n",
       "      <td>Bmr021/chan0.sph</td>\n",
       "      <td>Bmr021</td>\n",
       "      <td>chan0</td>\n",
       "      <td>1</td>\n",
       "    </tr>\n",
       "    <tr>\n",
       "      <th>17</th>\n",
       "      <td>1917.72</td>\n",
       "      <td>1.68</td>\n",
       "      <td>1918.32</td>\n",
       "      <td>1.00</td>\n",
       "      <td>Bmr021/chan0.sph</td>\n",
       "      <td>Bmr021</td>\n",
       "      <td>chan0</td>\n",
       "      <td>1</td>\n",
       "    </tr>\n",
       "    <tr>\n",
       "      <th>18</th>\n",
       "      <td>2010.88</td>\n",
       "      <td>4.37</td>\n",
       "      <td>2012.46</td>\n",
       "      <td>1.00</td>\n",
       "      <td>Bmr021/chan0.sph</td>\n",
       "      <td>Bmr021</td>\n",
       "      <td>chan0</td>\n",
       "      <td>1</td>\n",
       "    </tr>\n",
       "    <tr>\n",
       "      <th>19</th>\n",
       "      <td>2167.02</td>\n",
       "      <td>0.70</td>\n",
       "      <td>2167.02</td>\n",
       "      <td>0.70</td>\n",
       "      <td>Bmr021/chan0.sph</td>\n",
       "      <td>Bmr021</td>\n",
       "      <td>chan0</td>\n",
       "      <td>1</td>\n",
       "    </tr>\n",
       "  </tbody>\n",
       "</table>\n",
       "</div>"
      ],
      "text/plain": [
       "      start  duration  sub_start  sub_duration        audio_path meeting_id  \\\n",
       "0   1478.75      1.90    1478.92          1.00  Bmr021/chan3.sph     Bmr021   \n",
       "1    488.67      1.25     488.84          1.00  Bmr021/chan5.sph     Bmr021   \n",
       "2   1366.31      1.31    1366.43          1.00  Bmr021/chan3.sph     Bmr021   \n",
       "3   2203.13      1.92    2203.13          1.00  Bmr021/chan5.sph     Bmr021   \n",
       "4   2162.67      1.62    2163.19          1.00  Bmr021/chan2.sph     Bmr021   \n",
       "5    636.62      1.00     636.62          1.00  Bmr021/chan4.sph     Bmr021   \n",
       "6      1.17      1.00       1.17          1.00  Bmr021/chan3.sph     Bmr021   \n",
       "7   1933.38      1.68    1933.67          1.00  Bmr021/chan4.sph     Bmr021   \n",
       "8     22.83      4.37      25.11          1.00  Bmr021/chan0.sph     Bmr021   \n",
       "9    291.15      1.00     291.15          1.00  Bmr021/chan3.sph     Bmr021   \n",
       "10   290.69      1.90     291.39          1.00  Bmr021/chan0.sph     Bmr021   \n",
       "11   293.78      1.25     293.82          1.00  Bmr021/chan0.sph     Bmr021   \n",
       "12   389.46      1.31     389.46          1.00  Bmr021/chan0.sph     Bmr021   \n",
       "13   626.91      1.92     627.81          1.00  Bmr021/chan0.sph     Bmr021   \n",
       "14  1012.25      1.62    1012.29          1.00  Bmr021/chan0.sph     Bmr021   \n",
       "15  1038.67      0.95    1038.67          0.95  Bmr021/chan0.sph     Bmr021   \n",
       "16  1587.99      0.49    1587.99          0.49  Bmr021/chan0.sph     Bmr021   \n",
       "17  1917.72      1.68    1918.32          1.00  Bmr021/chan0.sph     Bmr021   \n",
       "18  2010.88      4.37    2012.46          1.00  Bmr021/chan0.sph     Bmr021   \n",
       "19  2167.02      0.70    2167.02          0.70  Bmr021/chan0.sph     Bmr021   \n",
       "\n",
       "   chan_id  label  \n",
       "0    chan3      0  \n",
       "1    chan5      0  \n",
       "2    chan3      0  \n",
       "3    chan5      0  \n",
       "4    chan2      0  \n",
       "5    chan4      0  \n",
       "6    chan3      0  \n",
       "7    chan4      0  \n",
       "8    chan0      0  \n",
       "9    chan3      0  \n",
       "10   chan0      1  \n",
       "11   chan0      1  \n",
       "12   chan0      1  \n",
       "13   chan0      1  \n",
       "14   chan0      1  \n",
       "15   chan0      1  \n",
       "16   chan0      1  \n",
       "17   chan0      1  \n",
       "18   chan0      1  \n",
       "19   chan0      1  "
      ]
     },
     "execution_count": 4,
     "metadata": {},
     "output_type": "execute_result"
    }
   ],
   "source": [
    "# Load the sample table with laughter and non-laughter segments \n",
    "# These are all laughter from chan0 in meeting 'Bmr021' (label 1)\n",
    "# There is one corresponding non-laughter segment for each laughter segment - \n",
    "# this might be from a different channel though as explained in the thesis.\n",
    "# The table will be called dataframe in the following - this is the standard term used by the pandas library\n",
    "df = pd.read_csv('data/icsi/data_dfs/samples/sample_df.csv')\n",
    "df"
   ]
  },
  {
   "cell_type": "code",
   "execution_count": 5,
   "id": "d5b0ae13",
   "metadata": {},
   "outputs": [],
   "source": [
    "# We create a single feature representation manually\n",
    "# The proper code does this in a loop and actually doesn't load the raw audio file\n",
    "# It uses precomputed features that represent the whole audio track of one participant and \n",
    "# then takes a subset of that feature representation that contains the segment we are interested in"
   ]
  },
  {
   "cell_type": "code",
   "execution_count": 6,
   "id": "0d9d237c",
   "metadata": {},
   "outputs": [
    {
     "data": {
      "text/plain": [
       "start                     290.69\n",
       "duration                     1.9\n",
       "sub_start                 291.39\n",
       "sub_duration                 1.0\n",
       "audio_path      Bmr021/chan0.sph\n",
       "meeting_id                Bmr021\n",
       "chan_id                    chan0\n",
       "label                          1\n",
       "Name: 10, dtype: object"
      ]
     },
     "execution_count": 6,
     "metadata": {},
     "output_type": "execute_result"
    }
   ],
   "source": [
    "# Select first laughter segment\n",
    "laugh_seg = df[df.label==1].iloc[0]\n",
    "laugh_seg"
   ]
  },
  {
   "cell_type": "code",
   "execution_count": 7,
   "id": "266fda5c",
   "metadata": {},
   "outputs": [
    {
     "data": {
      "text/plain": [
       "start                    1478.75\n",
       "duration                     1.9\n",
       "sub_start                1478.92\n",
       "sub_duration                 1.0\n",
       "audio_path      Bmr021/chan3.sph\n",
       "meeting_id                Bmr021\n",
       "chan_id                    chan3\n",
       "label                          0\n",
       "Name: 0, dtype: object"
      ]
     },
     "execution_count": 7,
     "metadata": {},
     "output_type": "execute_result"
    }
   ],
   "source": [
    "# Matching non-laughter segment\n",
    "non_laugh_seg = df[df.label==0].iloc[0]\n",
    "non_laugh_seg"
   ]
  },
  {
   "cell_type": "code",
   "execution_count": 8,
   "id": "01cc7040",
   "metadata": {},
   "outputs": [],
   "source": [
    "# First load the recording for the correct meeting and channel\n",
    "audio_file = 'data/samples/Bmr021_c0.sph'\n",
    "rec = Recording.from_file(audio_file)\n",
    "\n",
    "# Define feature extractor using 40 filters and 100samples for 1 second\n",
    "# Frame shift means that we move forward (1/num_samples)seconds before we create the next feature.\n",
    "num_samples=100\n",
    "extractor = Fbank(FbankConfig(num_filters=40, frame_shift=1/num_samples))"
   ]
  },
  {
   "cell_type": "code",
   "execution_count": 9,
   "id": "3d75e40a",
   "metadata": {},
   "outputs": [
    {
     "data": {
      "text/plain": [
       "MonoCut(id='sample-laugh', start=291.39, duration=1.0, channel=0, supervisions=[], features=None, recording=Recording(id='Bmr021_c0', sources=[AudioSource(type='file', channels=[0], source='data/samples/Bmr021_c0.sph')], sampling_rate=16000, num_samples=35391062, duration=2211.941375, transforms=None), custom=None)"
      ]
     },
     "execution_count": 9,
     "metadata": {},
     "output_type": "execute_result"
    }
   ],
   "source": [
    "# Create a lhotse cut for the laugh segment\n",
    "laugh_cut = MonoCut(id='sample-laugh', start=laugh_seg.sub_start, duration=laugh_seg.sub_duration, channel=0, recording=rec)\n",
    "laugh_cut"
   ]
  },
  {
   "cell_type": "code",
   "execution_count": 24,
   "id": "8d4cc67c",
   "metadata": {
    "scrolled": false
   },
   "outputs": [
    {
     "ename": "AttributeError",
     "evalue": "'AxesImage' object has no attribute 'set_xlabel'",
     "output_type": "error",
     "traceback": [
      "\u001b[0;31m---------------------------------------------------------------------------\u001b[0m",
      "\u001b[0;31mAttributeError\u001b[0m                            Traceback (most recent call last)",
      "Input \u001b[0;32mIn [24]\u001b[0m, in \u001b[0;36m<module>\u001b[0;34m\u001b[0m\n\u001b[1;32m      4\u001b[0m laugh_cut\u001b[38;5;241m.\u001b[39mplot_audio()\n\u001b[1;32m      5\u001b[0m a \u001b[38;5;241m=\u001b[39m laugh_cut\u001b[38;5;241m.\u001b[39mplot_features()\n\u001b[0;32m----> 6\u001b[0m \u001b[43ma\u001b[49m\u001b[38;5;241;43m.\u001b[39;49m\u001b[43mset_xlabel\u001b[49m(\u001b[38;5;124m'\u001b[39m\u001b[38;5;124mest\u001b[39m\u001b[38;5;124m'\u001b[39m)\n\u001b[1;32m      7\u001b[0m features \u001b[38;5;241m=\u001b[39m np\u001b[38;5;241m.\u001b[39mflip(laugh_cut\u001b[38;5;241m.\u001b[39mload_features()\u001b[38;5;241m.\u001b[39mtranspose(\u001b[38;5;241m1\u001b[39m, \u001b[38;5;241m0\u001b[39m), \u001b[38;5;241m0\u001b[39m)\n\u001b[1;32m      8\u001b[0m plt\u001b[38;5;241m.\u001b[39mx_axis\u001b[38;5;241m=\u001b[39m\u001b[38;5;124m'\u001b[39m\u001b[38;5;124mtret\u001b[39m\u001b[38;5;124m'\u001b[39m\n",
      "\u001b[0;31mAttributeError\u001b[0m: 'AxesImage' object has no attribute 'set_xlabel'"
     ]
    },
    {
     "data": {
      "image/png": "[encoded data removed]",
      "text/plain": [
       "<Figure size 432x288 with 1 Axes>"
      ]
     },
     "metadata": {
      "needs_background": "light"
     },
     "output_type": "display_data"
    },
    {
     "data": {
      "image/png": "[encoded data removed]",
      "text/plain": [
       "<Figure size 720x288 with 1 Axes>"
      ]
     },
     "metadata": {
      "needs_background": "light"
     },
     "output_type": "display_data"
    }
   ],
   "source": [
    "laugh_cut = laugh_cut.compute_and_store_features(extractor, storage=LilcomFilesWriter('.demo-feats'))\n",
    "laugh_cut.plot_audio()\n",
    "laugh_cut.plot_features()"
   ]
  },
  {
   "cell_type": "code",
   "execution_count": 30,
   "id": "485e6ca9",
   "metadata": {},
   "outputs": [
    {
     "data": {
      "image/png": "[encoded data removed]",
      "text/plain": [
       "<Figure size 720x864 with 1 Axes>"
      ]
     },
     "metadata": {
      "needs_background": "light"
     },
     "output_type": "display_data"
    }
   ],
   "source": [
    "import numpy as np\n",
    "from matplotlib import pyplot as plt\n",
    "# Plot features with axis labels\n",
    "features = np.flip(laugh_cut.load_features().transpose(1, 0), 0)\n",
    "fig, ax1 = plt.subplots(figsize=(10,12))\n",
    "ax1.matshow(features)\n",
    "ax1.set_xlabel('samples', fontsize=15)\n",
    "ax1.set_ylabel('filters', fontsize=15)\n",
    "plt.show()"
   ]
  },
  {
   "cell_type": "code",
   "execution_count": null,
   "id": "2a294fac",
   "metadata": {},
   "outputs": [],
   "source": [
    "# Create a lhotse cut for the non-laugh segment\n",
    "non_laugh_cut = MonoCut(id='sample-laugh', start=non_laugh_seg.sub_start, duration=non_laugh_seg.sub_duration, channel=0, recording=rec)\n",
    "non_laugh_cut"
   ]
  },
  {
   "cell_type": "code",
   "execution_count": null,
   "id": "d6e54df9",
   "metadata": {},
   "outputs": [],
   "source": [
    "non_laugh_cut = non_laugh_cut.compute_and_store_features(extractor, storage=LilcomFilesWriter('.demo-feats'))\n",
    "non_laugh_cut.plot_audio()\n",
    "non_laugh_cut.plot_features()\n",
    "non_laugh_cut.play_audio()"
   ]
  },
  {
   "cell_type": "code",
   "execution_count": null,
   "id": "db26cbe2",
   "metadata": {},
   "outputs": [],
   "source": []
  }
 ],
 "metadata": {
  "kernelspec": {
   "display_name": "Python 3 (ipykernel)",
   "language": "python",
   "name": "python3"
  },
  "language_info": {
   "codemirror_mode": {
    "name": "ipython",
    "version": 3
   },
   "file_extension": ".py",
   "mimetype": "text/x-python",
   "name": "python",
   "nbconvert_exporter": "python",
   "pygments_lexer": "ipython3",
   "version": "3.9.7"
  }
 },
 "nbformat": 4,
 "nbformat_minor": 5
}
